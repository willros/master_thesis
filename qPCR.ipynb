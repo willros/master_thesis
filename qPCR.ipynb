{
 "cells": [
  {
   "cell_type": "markdown",
   "id": "9dc54aec-0626-4ad6-b7ff-d9aac51ad53d",
   "metadata": {},
   "source": [
    "# Analyzing the qPCR result from 7-12-21\n",
    "made from T-cell RNA. Extracted from same cells used for the smallseq miRNA sequencing library. \n",
    "Cells are: T0, T1, T2, T17 and Treg (1-5), and negative control, without RT, (6-10)\n",
    "\n",
    "Genes are: \n",
    "* TBX21 (Th1)\n",
    "* RORy (Th17)\n",
    "* FOXP3 (Treg) \n",
    "* GATA3 (Th2)\n",
    "* IL4\n",
    "* IL17a\n",
    "* GAPDH\n",
    "* ATP5F1"
   ]
  },
  {
   "cell_type": "code",
   "execution_count": 177,
   "id": "aadf816e-1582-44a5-85e2-77c8d35f7d03",
   "metadata": {
    "tags": []
   },
   "outputs": [],
   "source": [
    "import pandas as pd\n",
    "from datar.all import *\n",
    "from plotnine import *\n",
    "import numpy as np "
   ]
  },
  {
   "cell_type": "code",
   "execution_count": 178,
   "id": "5f06b8df-7274-435c-91f1-febc3e8cf1c7",
   "metadata": {
    "tags": []
   },
   "outputs": [],
   "source": [
    "pcr = pd.read_csv('qPCR 7-12-21.tsv', delimiter='\\t')\n",
    "\n",
    "pcr = (pcr >>\n",
    " separate(f.Well, ['gene', 'cell'], sep=r'(\\d+)'))"
   ]
  },
  {
   "cell_type": "code",
   "execution_count": 179,
   "id": "a240c74a-9fcc-44b5-9c3d-12220e8fb6e0",
   "metadata": {
    "tags": []
   },
   "outputs": [],
   "source": [
    "pcr = (pcr >>\n",
    " mutate(gene = case_when(f.gene == 'A', 'TBX21',\n",
    "                        f.gene == 'B', 'RORy',\n",
    "                        f.gene == 'C', 'FOXP3',\n",
    "                        f.gene == 'D', 'GATA3',\n",
    "                        f.gene == 'E', 'IL4',\n",
    "                        f.gene == 'F', 'IL17',\n",
    "                        f.gene == 'G', 'GAPDH',\n",
    "                        f.gene == 'H', 'ATP5F1')) >>\n",
    " mutate(cell = case_when(f.cell == '01', 'Th0',\n",
    "                        f.cell == '02', 'Th1',\n",
    "                        f.cell == '03', 'Th2',\n",
    "                        f.cell == '04', 'Th17',\n",
    "                        f.cell == '05', 'Treg',\n",
    "                        f.cell == '06', 'Th0_neg',\n",
    "                        f.cell == '07', 'Th1_neg',\n",
    "                        f.cell == '08', 'Th2_neg',\n",
    "                        f.cell == '09', 'Th17_neg',\n",
    "                        f.cell == '10', 'Treg_neg')) >>\n",
    " mutate(Cq = f.Cq.str.replace(',', '.')) >>\n",
    " replace_na(40) >>\n",
    " mutate(Cq = as_float(f.Cq)) >>\n",
    " select(f.cell, f.gene, f.Cq)\n",
    ")\n",
    "\n",
    "housekeep = (pcr >> filter(f.gene == 'GAPDH') >> pull(f.Cq)).to_list() * 8\n",
    "pcr['housekeep'] = housekeep\n",
    "\n",
    "pcr['delta_ct'] = pcr['Cq'] - pcr['housekeep']"
   ]
  },
  {
   "cell_type": "code",
   "execution_count": 180,
   "id": "1e42156a-7270-4a24-a359-b3a5ce69def2",
   "metadata": {
    "tags": []
   },
   "outputs": [
    {
     "data": {
      "image/png": "[encoded data removed]",
      "text/plain": [
       "<Figure size 640x480 with 7 Axes>"
      ]
     },
     "metadata": {},
     "output_type": "display_data"
    },
    {
     "data": {
      "text/plain": [
       "<ggplot: (382691708)>"
      ]
     },
     "execution_count": 180,
     "metadata": {},
     "output_type": "execute_result"
    }
   ],
   "source": [
    "(pcr >> \n",
    " filter(~endswith(f.cell, '_neg')) >>\n",
    " filter(f.gene != 'GAPDH') >>\n",
    " ggplot(aes('cell', 'delta_ct')) + \n",
    " geom_col() + \n",
    " facet_wrap('gene') + \n",
    " coord_flip()\n",
    ")"
   ]
  },
  {
   "cell_type": "markdown",
   "id": "c2cdbdcc-2d35-4c3a-ae34-c570d22dc835",
   "metadata": {},
   "source": [
    "## Compare everything to Th0? \n",
    "So that every cells $\\Delta$Ct is subtracted by T0H $\\Delta$Ct"
   ]
  },
  {
   "cell_type": "code",
   "execution_count": 181,
   "id": "3cdda02c-3828-4fa4-ad71-d2f06ccea969",
   "metadata": {
    "tags": []
   },
   "outputs": [],
   "source": [
    "\n",
    "def deltadelta(df: pd.DataFrame, gene: str, reference: str, housekeeping: str = 'GAPDH' ) -> pd.DataFrame:\n",
    "\n",
    "    '''Calculates delta delta ct for a gene and a reference cell. Returns a new dataframe and a figure. '''\n",
    "    \n",
    "    reference_value = df >> filter(f.gene == gene, f.cell == reference) >> pull(f.delta_ct) \n",
    "    reference_value = float(reference_value)\n",
    "\n",
    "    dd_df = (df >> \n",
    "             filter(f.gene == gene, ~endswith(f.cell, '_neg')) >>\n",
    "             mutate(deltadelta_ct = f.delta_ct - reference_value) >>\n",
    "             #get rid of the reference value since its only 0\n",
    "             filter(f.deltadelta_ct != 0) >>\n",
    "             mutate(foldchange = 2 ** -(f.deltadelta_ct)) >>\n",
    "             mutate(log2change = -f.deltadelta_ct)) \n",
    "    \n",
    "    fig = (dd_df >> \n",
    "     mutate(cell = fct_reorder(f.cell, f.log2change)) >>\n",
    "     ggplot(aes('cell', 'log2change')) + \n",
    "     geom_col(fill='lightblue') +\n",
    "     coord_flip() + \n",
    "     geom_hline(yintercept=0, linetype='dashed', color='darkblue') +\n",
    "     theme_seaborn() +\n",
    "     labs(title=f'Log2 change of {gene} compared to {reference} (\\u0394\\u0394C method)',\n",
    "          x='',\n",
    "          y='Log2 change')\n",
    "    )\n",
    "    \n",
    "    return fig, dd_df\n",
    "    "
   ]
  },
  {
   "cell_type": "markdown",
   "id": "1d5fee8d-23a7-4ed4-8b10-fe93361bb018",
   "metadata": {},
   "source": [
    "# FOXP3\n",
    "### FOXP3 is supposed to be upregulated in Treg cells"
   ]
  },
  {
   "cell_type": "code",
   "execution_count": 168,
   "id": "47944c21-d923-4d53-953b-8470d469bb18",
   "metadata": {
    "tags": []
   },
   "outputs": [
    {
     "name": "stderr",
     "output_type": "stream",
     "text": [
      "/Users/williamrosenbaum/opt/miniconda3/envs/smallseq/lib/python3.9/site-packages/plotnine/ggplot.py:719: PlotnineWarning: Saving 6.4 x 4.8 in image.\n",
      "/Users/williamrosenbaum/opt/miniconda3/envs/smallseq/lib/python3.9/site-packages/plotnine/ggplot.py:722: PlotnineWarning: Filename: FOXP3.png\n"
     ]
    }
   ],
   "source": [
    "fig, _ = deltadelta(pcr, 'FOXP3', 'Th0')\n",
    "fig.save('FOXP3.png')"
   ]
  },
  {
   "cell_type": "markdown",
   "id": "064858f8-1b53-405d-bf2e-94315d1c8a7f",
   "metadata": {
    "tags": []
   },
   "source": [
    "# GATA3\n",
    "### Supposed to be upregulated in Th2 cells \n"
   ]
  },
  {
   "cell_type": "code",
   "execution_count": 169,
   "id": "97a1e7b2-0a64-492d-a19f-12d68b2e6222",
   "metadata": {
    "tags": []
   },
   "outputs": [
    {
     "name": "stderr",
     "output_type": "stream",
     "text": [
      "/Users/williamrosenbaum/opt/miniconda3/envs/smallseq/lib/python3.9/site-packages/plotnine/ggplot.py:719: PlotnineWarning: Saving 6.4 x 4.8 in image.\n",
      "/Users/williamrosenbaum/opt/miniconda3/envs/smallseq/lib/python3.9/site-packages/plotnine/ggplot.py:722: PlotnineWarning: Filename: GATA3.png\n"
     ]
    }
   ],
   "source": [
    "gata3, _ = deltadelta(pcr, 'GATA3', 'Th0')\n",
    "gata3.save('GATA3.png')"
   ]
  },
  {
   "cell_type": "markdown",
   "id": "6a9ef602-cff8-431e-950b-22d465b72038",
   "metadata": {},
   "source": [
    "# RORy\n",
    "### Supposed to be upregulated in Th17. Here, it seems like its mostly upregulated in Tregs."
   ]
  },
  {
   "cell_type": "code",
   "execution_count": 182,
   "id": "a5761e1c-b3bd-424b-a2e1-5606347a94a3",
   "metadata": {
    "tags": []
   },
   "outputs": [
    {
     "name": "stderr",
     "output_type": "stream",
     "text": [
      "/Users/williamrosenbaum/opt/miniconda3/envs/smallseq/lib/python3.9/site-packages/plotnine/ggplot.py:719: PlotnineWarning: Saving 6.4 x 4.8 in image.\n",
      "/Users/williamrosenbaum/opt/miniconda3/envs/smallseq/lib/python3.9/site-packages/plotnine/ggplot.py:722: PlotnineWarning: Filename: RORy.pdf\n"
     ]
    }
   ],
   "source": [
    "fig, _ = deltadelta(pcr, 'RORy', 'Th0')\n",
    "fig.save('RORy.pdf')"
   ]
  },
  {
   "cell_type": "markdown",
   "id": "2f8e0c16-b2fb-4535-985d-5b6fb6035d06",
   "metadata": {},
   "source": [
    "# TBX21\n",
    "### Supposed to be upregulated in Th1. Here it seems like it is slightly less compared to Th0. "
   ]
  },
  {
   "cell_type": "code",
   "execution_count": 183,
   "id": "6b33bb79-6cc9-4694-86c0-407d7a986cf0",
   "metadata": {
    "tags": []
   },
   "outputs": [
    {
     "name": "stderr",
     "output_type": "stream",
     "text": [
      "/Users/williamrosenbaum/opt/miniconda3/envs/smallseq/lib/python3.9/site-packages/plotnine/ggplot.py:719: PlotnineWarning: Saving 6.4 x 4.8 in image.\n",
      "/Users/williamrosenbaum/opt/miniconda3/envs/smallseq/lib/python3.9/site-packages/plotnine/ggplot.py:722: PlotnineWarning: Filename: TBX.pdf\n"
     ]
    }
   ],
   "source": [
    "fig, _ = deltadelta(pcr, 'TBX21', 'Th0')\n",
    "fig.save('TBX.pdf')"
   ]
  },
  {
   "cell_type": "markdown",
   "id": "2ba2718e-12de-475d-93f2-ebba724bb771",
   "metadata": {},
   "source": [
    "# IL4"
   ]
  },
  {
   "cell_type": "code",
   "execution_count": 184,
   "id": "9fa9f2eb-2d19-4da0-b560-57874170bedc",
   "metadata": {},
   "outputs": [
    {
     "name": "stderr",
     "output_type": "stream",
     "text": [
      "/Users/williamrosenbaum/opt/miniconda3/envs/smallseq/lib/python3.9/site-packages/plotnine/ggplot.py:719: PlotnineWarning: Saving 6.4 x 4.8 in image.\n",
      "/Users/williamrosenbaum/opt/miniconda3/envs/smallseq/lib/python3.9/site-packages/plotnine/ggplot.py:722: PlotnineWarning: Filename: IL4.pdf\n"
     ]
    }
   ],
   "source": [
    "fig, _ = deltadelta(pcr, 'IL4', 'Th0')\n",
    "fig.save('IL4.pdf')"
   ]
  },
  {
   "cell_type": "markdown",
   "id": "fc2acd1e-51b5-4e79-b12a-d06df9d34870",
   "metadata": {},
   "source": [
    "# IL17a"
   ]
  },
  {
   "cell_type": "code",
   "execution_count": 185,
   "id": "95e631e9-b4cd-441a-99fc-fa0bcdf9e3ac",
   "metadata": {},
   "outputs": [
    {
     "name": "stderr",
     "output_type": "stream",
     "text": [
      "/Users/williamrosenbaum/opt/miniconda3/envs/smallseq/lib/python3.9/site-packages/plotnine/ggplot.py:719: PlotnineWarning: Saving 6.4 x 4.8 in image.\n",
      "/Users/williamrosenbaum/opt/miniconda3/envs/smallseq/lib/python3.9/site-packages/plotnine/ggplot.py:722: PlotnineWarning: Filename: IL17a.pdf\n"
     ]
    }
   ],
   "source": [
    "fig, _ = deltadelta(pcr, 'IL17', 'Th0')\n",
    "fig.save('IL17a.pdf')"
   ]
  }
 ],
 "metadata": {
  "kernelspec": {
   "display_name": "Python 3 (ipykernel)",
   "language": "python",
   "name": "python3"
  },
  "language_info": {
   "codemirror_mode": {
    "name": "ipython",
    "version": 3
   },
   "file_extension": ".py",
   "mimetype": "text/x-python",
   "name": "python",
   "nbconvert_exporter": "python",
   "pygments_lexer": "ipython3",
   "version": "3.9.7"
  }
 },
 "nbformat": 4,
 "nbformat_minor": 5
}
